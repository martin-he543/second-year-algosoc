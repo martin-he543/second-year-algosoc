{
  "cells": [
    {
      "cell_type": "markdown",
      "id": "68655b5a",
      "metadata": {
        "id": "68655b5a"
      },
      "source": [
        "## Creating a Net-Zero Momentum Sector Strategy"
      ]
    },
    {
      "cell_type": "markdown",
      "id": "edd333cb",
      "metadata": {
        "id": "edd333cb"
      },
      "source": [
        "We have already seen a Momentum Cross Over strategy in session two."
      ]
    },
    {
      "cell_type": "markdown",
      "id": "30f8e3c1",
      "metadata": {
        "id": "30f8e3c1"
      },
      "source": [
        "Now, instead, we will implement a Zero Momentum Basket. Our basket will only contain Equity (Stocks).\n",
        "\n",
        "A basket here is simply a combination of individual stocks with different weightings\n",
        "\n",
        "Remember to checkout the old notebooks if you've forgotten any methods from previous weeks:\n",
        "\n",
        "https://imperialcollegelondon.app.box.com/s/rq3he3gb5mq2tlzzyhxh5q8s3iv82wfg"
      ]
    },
    {
      "cell_type": "markdown",
      "id": "201b2078",
      "metadata": {
        "id": "201b2078"
      },
      "source": [
        "**1a)** Read in the [AAPL, META, GOOG, AMZN, MSFT, TSLA] Stock Adjusted Close Prices using Yahoo Finance from Start of 2017 - End of 2019 into a DataFrame (df) (1 Mark)"
      ]
    },
    {
      "cell_type": "code",
      "execution_count": null,
      "id": "d6873387",
      "metadata": {
        "id": "d6873387"
      },
      "outputs": [],
      "source": [
        "#df = \n",
        "\n",
        "#Output head of df"
      ]
    },
    {
      "cell_type": "markdown",
      "id": "d28472b8",
      "metadata": {
        "id": "d28472b8"
      },
      "source": [
        "**1b)** Plot the Adjusted Close Prices of these 6 stocks (1 Mark)"
      ]
    },
    {
      "cell_type": "code",
      "execution_count": null,
      "id": "4f9fa020",
      "metadata": {
        "id": "4f9fa020"
      },
      "outputs": [],
      "source": [
        "#Plot"
      ]
    },
    {
      "cell_type": "markdown",
      "id": "1082968a",
      "metadata": {
        "id": "1082968a"
      },
      "source": [
        "**1c)** Using the adjusted close of each of the 6 stocks generate the daily log return & show the new head of our df (1 Mark)"
      ]
    },
    {
      "cell_type": "code",
      "execution_count": null,
      "id": "4d065a31",
      "metadata": {
        "id": "4d065a31"
      },
      "outputs": [],
      "source": [
        "#Output head of df"
      ]
    },
    {
      "cell_type": "markdown",
      "id": "bf91db15",
      "metadata": {
        "id": "bf91db15"
      },
      "source": [
        "## Creating a Basket"
      ]
    },
    {
      "cell_type": "markdown",
      "id": "10a449fe",
      "metadata": {
        "id": "10a449fe"
      },
      "source": [
        "As you can see the stocks perform at varying levels across these 4 years. We will look at trying to create a basket which is \"sector neutral\" such that it is unaffected by the sectors overall performance.\n",
        "\n",
        "(Although simpliefied) We can do this by shorting the sector as much as we long it.\n",
        "\n",
        "For a basket of 6 stocks we will allocate weightings of:\n",
        "\n",
        "A -> +30%\n",
        "\n",
        "B -> +15%\n",
        "\n",
        "C -> +5%\n",
        "\n",
        "D -> -5%\n",
        "\n",
        "E -> -15%\n",
        "\n",
        "F -> -30%\n",
        "\n",
        "This way we have a total capital allocation of 100% but we have gone long (+)50% and shorted (-)50%. Overall our net position in the sector is 0%.\n",
        "\n",
        "We can consider the daily returns from an individual stock in the basket (Basket_X_return) by using the formula:\n",
        "\n",
        "Basket_X_return = Weight(X) * daily_return\n",
        "\n",
        "Consider Asset E with a +10% daily return:\n",
        "\n",
        "Basket_E_return = -0.15 x 0.1 = -0.015 = -1.5% return\n",
        "\n",
        "Here the daily return from asset E in the basket is -1.5%.\n"
      ]
    },
    {
      "cell_type": "markdown",
      "id": "c6161563",
      "metadata": {
        "id": "c6161563"
      },
      "source": [
        "2a) Consider the basket:\n",
        "\n",
        "A = AAPL\n",
        "\n",
        "B = META\n",
        "\n",
        "C = GOOG\n",
        "\n",
        "D = AMZN\n",
        "\n",
        "E = MSFT\n",
        "\n",
        "F = TSLA"
      ]
    },
    {
      "cell_type": "markdown",
      "id": "258ea849",
      "metadata": {
        "id": "258ea849"
      },
      "source": [
        "**2a)** For each Stock Return Column of our df, use the Basket_X_Return formula to create an array/list of daily returns for each stock. What is the total return of our basket? (1 Mark)"
      ]
    },
    {
      "cell_type": "code",
      "execution_count": null,
      "id": "b3c739ba",
      "metadata": {
        "id": "b3c739ba"
      },
      "outputs": [],
      "source": [
        "#Print total return"
      ]
    },
    {
      "cell_type": "markdown",
      "id": "e118d169",
      "metadata": {
        "id": "e118d169"
      },
      "source": [
        "**2b)** Plot the Cumulative Return of our model vs the individual stocks (1 Mark)"
      ]
    },
    {
      "cell_type": "code",
      "execution_count": null,
      "id": "58ca040c",
      "metadata": {
        "id": "58ca040c"
      },
      "outputs": [],
      "source": [
        "#Output plot of Cumulative return"
      ]
    },
    {
      "cell_type": "markdown",
      "id": "21986070",
      "metadata": {
        "id": "21986070"
      },
      "source": [
        "## Finding the Optimum Allocation"
      ]
    },
    {
      "cell_type": "markdown",
      "id": "69573208",
      "metadata": {
        "id": "69573208"
      },
      "source": [
        "We have considered one possible combination our 6 stocks in the 6 slots (A-F)\n",
        "\n",
        "**3a)** How many possible allocations are there for our 6 stocks in the 6 slots? (1 Mark)"
      ]
    },
    {
      "cell_type": "code",
      "execution_count": null,
      "id": "96e3d211",
      "metadata": {
        "id": "96e3d211"
      },
      "outputs": [],
      "source": [
        "#Print number of allocations"
      ]
    },
    {
      "cell_type": "markdown",
      "id": "eb4891d3",
      "metadata": {
        "id": "eb4891d3"
      },
      "source": [
        "Using combinations function for finding all variations.\n",
        "\n",
        "Documentation: https://docs.python.org/3/library/itertools.html#itertools.combinations\n",
        "\n",
        "**3b)** Generate all variations (1 Mark)"
      ]
    },
    {
      "cell_type": "code",
      "execution_count": null,
      "id": "4ac44187",
      "metadata": {
        "id": "4ac44187"
      },
      "outputs": [],
      "source": [
        "from itertools import combinations\n",
        "#Print List of all variations\n"
      ]
    },
    {
      "cell_type": "markdown",
      "id": "16b43c42",
      "metadata": {
        "id": "16b43c42"
      },
      "source": [
        "**3c)** Iterate through each possible basket & save the total basket return, which arrangement generates the optimum log return? (2 Marks)"
      ]
    },
    {
      "cell_type": "code",
      "execution_count": null,
      "id": "6f955ffd",
      "metadata": {
        "id": "6f955ffd"
      },
      "outputs": [],
      "source": [
        "#Print Optimum Arrangement & it's return"
      ]
    },
    {
      "cell_type": "markdown",
      "source": [
        "## Improving Our Strategy"
      ],
      "metadata": {
        "id": "mJLcXPF6QT8a"
      },
      "id": "mJLcXPF6QT8a"
    },
    {
      "cell_type": "markdown",
      "source": [
        "**4)** For the chance to get 11/10: Recommend another way we could try and optimise a zero momentum basket. No right answers!\n",
        "\n",
        "i.e. iterate through different possible A-F weightings ([+25%, +15%, +10%...]). "
      ],
      "metadata": {
        "id": "2WntOaquPibV"
      },
      "id": "2WntOaquPibV"
    },
    {
      "cell_type": "code",
      "source": [],
      "metadata": {
        "id": "cdpJfIf2Pxg4"
      },
      "id": "cdpJfIf2Pxg4",
      "execution_count": null,
      "outputs": []
    }
  ],
  "metadata": {
    "kernelspec": {
      "display_name": "Python 3 (ipykernel)",
      "language": "python",
      "name": "python3"
    },
    "language_info": {
      "codemirror_mode": {
        "name": "ipython",
        "version": 3
      },
      "file_extension": ".py",
      "mimetype": "text/x-python",
      "name": "python",
      "nbconvert_exporter": "python",
      "pygments_lexer": "ipython3",
      "version": "3.9.12"
    },
    "colab": {
      "provenance": [],
      "collapsed_sections": [
        "68655b5a",
        "bf91db15",
        "21986070",
        "mJLcXPF6QT8a"
      ]
    }
  },
  "nbformat": 4,
  "nbformat_minor": 5
}